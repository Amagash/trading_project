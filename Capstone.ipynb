{
 "cells": [
  {
   "cell_type": "code",
   "execution_count": 52,
   "metadata": {},
   "outputs": [],
   "source": [
    "import pandas as pd\n",
    "import numpy as np\n",
    "import matplotlib.pyplot as plt\n",
    "import utilities as util\n",
    "import os\n",
    "os.environ['TF_CPP_MIN_LOG_LEVEL'] = '2'\n",
    "from keras.layers.core import Dense, Activation, Dropout\n",
    "from keras.layers.recurrent import LSTM\n",
    "from keras.models import Sequential\n",
    "from keras.callbacks import ModelCheckpoint\n",
    "from sklearn.preprocessing import MinMaxScaler"
   ]
  },
  {
   "cell_type": "code",
   "execution_count": 53,
   "metadata": {
    "collapsed": true
   },
   "outputs": [],
   "source": [
    "def get_dataset():\n",
    "    folder_path = \"data/bitstampUSD_1-min_data_2012-01-01_to_2018-03-27.csv\"\n",
    "    return pd.read_csv(folder_path, header=0)"
   ]
  },
  {
   "cell_type": "code",
   "execution_count": 54,
   "metadata": {},
   "outputs": [
    {
     "name": "stdout",
     "output_type": "stream",
     "text": [
      "    Timestamp  Open  High   Low  Close  Volume_(BTC)  Volume_(Currency)  \\\n",
      "0  1325317920  4.39  4.39  4.39   4.39      0.455581                2.0   \n",
      "1  1325317980  4.39  4.39  4.39   4.39      0.455581                2.0   \n",
      "2  1325318040  4.39  4.39  4.39   4.39      0.455581                2.0   \n",
      "3  1325318100  4.39  4.39  4.39   4.39      0.455581                2.0   \n",
      "4  1325318160  4.39  4.39  4.39   4.39      0.455581                2.0   \n",
      "\n",
      "   Weighted_Price  \n",
      "0            4.39  \n",
      "1            4.39  \n",
      "2            4.39  \n",
      "3            4.39  \n",
      "4            4.39  \n",
      "          Timestamp          Open          High           Low         Close  \\\n",
      "count  3.273377e+06  3.273377e+06  3.273377e+06  3.273377e+06  3.273377e+06   \n",
      "mean   1.423719e+09  1.282265e+03  1.283527e+03  1.280822e+03  1.282248e+03   \n",
      "std    5.686463e+07  2.812084e+03  2.815636e+03  2.807936e+03  2.812042e+03   \n",
      "min    1.325318e+09  3.800000e+00  3.800000e+00  1.500000e+00  1.500000e+00   \n",
      "25%    1.374419e+09  1.178500e+02  1.179000e+02  1.177700e+02  1.178500e+02   \n",
      "50%    1.423908e+09  3.960100e+02  3.962900e+02  3.958200e+02  3.960000e+02   \n",
      "75%    1.473008e+09  7.211600e+02  7.219800e+02  7.205000e+02  7.210500e+02   \n",
      "max    1.522109e+09  1.966576e+04  1.966600e+04  1.964996e+04  1.966575e+04   \n",
      "\n",
      "       Volume_(BTC)  Volume_(Currency)  Weighted_Price  \n",
      "count  3.273377e+06       3.273377e+06    3.273377e+06  \n",
      "mean   1.116149e+01       1.356582e+04    1.282163e+03  \n",
      "std    3.552989e+01       6.806235e+04    2.811795e+03  \n",
      "min    0.000000e+00       0.000000e+00    3.800000e+00  \n",
      "25%    4.703587e-01       7.120096e+01    1.178400e+02  \n",
      "50%    2.160980e+00       4.150598e+02    3.960014e+02  \n",
      "75%    9.000000e+00       3.371765e+03    7.211458e+02  \n",
      "max    5.853852e+03       5.483271e+06    1.966330e+04  \n",
      "3273377\n"
     ]
    }
   ],
   "source": [
    "df = get_dataset()\n",
    "print(df.head())\n",
    "print(df.describe())\n",
    "print(len(df))"
   ]
  },
  {
   "cell_type": "code",
   "execution_count": 55,
   "metadata": {
    "collapsed": true
   },
   "outputs": [],
   "source": [
    "def clean_data(df, categorie):\n",
    "    df['date'] = pd.to_datetime(df['Timestamp'], unit='s').dt.date\n",
    "    group = df.groupby('date', as_index=False)\n",
    "    weighted_price = group[categorie].mean()\n",
    "    return weighted_price"
   ]
  },
  {
   "cell_type": "code",
   "execution_count": 56,
   "metadata": {},
   "outputs": [
    {
     "name": "stdout",
     "output_type": "stream",
     "text": [
      "         date  Weighted_Price\n",
      "0  2011-12-31        4.472579\n",
      "1  2012-01-01        4.680778\n",
      "2  2012-01-02        5.000000\n",
      "3  2012-01-03        5.145917\n",
      "4  2012-01-04        5.195443\n",
      "2276\n"
     ]
    }
   ],
   "source": [
    "cleaned_df = clean_data(df, 'Weighted_Price')\n",
    "print(cleaned_df.head())\n",
    "print(len(cleaned_df))"
   ]
  },
  {
   "cell_type": "code",
   "execution_count": 57,
   "metadata": {
    "collapsed": true
   },
   "outputs": [],
   "source": [
    "def plot_original_data(data):\n",
    "    plt.figure(figsize=(10, 10))\n",
    "    plt.plot(data.date, data.Weighted_Price, lw=1, label='Original Price')\n",
    "    plt.legend(loc='upper left')\n",
    "    plt.xlabel('Time')\n",
    "    plt.ylabel('Price')\n",
    "    plt.savefig('original_data.png')\n",
    "    plt.show()"
   ]
  },
  {
   "cell_type": "code",
   "execution_count": 58,
   "metadata": {},
   "outputs": [
    {
     "data": {
      "image/png": "[encoded data removed]",
      "text/plain": [
       "<matplotlib.figure.Figure at 0x7f10285e9ef0>"
      ]
     },
     "metadata": {},
     "output_type": "display_data"
    }
   ],
   "source": [
    "plot_original_data(cleaned_df)"
   ]
  },
  {
   "cell_type": "code",
   "execution_count": 59,
   "metadata": {},
   "outputs": [
    {
     "name": "stdout",
     "output_type": "stream",
     "text": [
      "[4.4725790e+00 4.6807775e+00 5.0000000e+00 ... 8.5356084e+03 8.2080938e+03\n",
      " 8.1551460e+03]\n",
      "2276\n",
      "[[4.4725790e+00]\n",
      " [4.6807775e+00]\n",
      " [5.0000000e+00]\n",
      " ...\n",
      " [8.5356084e+03]\n",
      " [8.2080938e+03]\n",
      " [8.1551460e+03]]\n"
     ]
    }
   ],
   "source": [
    "weighted_price = cleaned_df.Weighted_Price.values.astype('float32')\n",
    "print(weighted_price)\n",
    "print(len(weighted_price))\n",
    "weighted_price = weighted_price.reshape(len(weighted_price), 1)\n",
    "print(weighted_price)"
   ]
  },
  {
   "cell_type": "code",
   "execution_count": 60,
   "metadata": {},
   "outputs": [
    {
     "name": "stdout",
     "output_type": "stream",
     "text": [
      "[[7.4902200e-06]\n",
      " [1.8344159e-05]\n",
      " [3.4986078e-05]\n",
      " ...\n",
      " [4.4475812e-01]\n",
      " [4.2768389e-01]\n",
      " [4.2492360e-01]]\n",
      "2276\n"
     ]
    }
   ],
   "source": [
    "scaler = MinMaxScaler(feature_range=(0, 1))\n",
    "data_scaled = scaler.fit_transform(weighted_price)\n",
    "print(data_scaled)\n",
    "print(len(data_scaled))"
   ]
  },
  {
   "cell_type": "code",
   "execution_count": 61,
   "metadata": {
    "collapsed": true
   },
   "outputs": [],
   "source": [
    "def split_data(data, train_percentage):\n",
    "    length_data = int(len(data))\n",
    "    train_size = int(length_data * train_percentage)\n",
    "    train_set = data[:train_size]\n",
    "    test_set = data[train_size:]\n",
    "    return train_set, test_set"
   ]
  },
  {
   "cell_type": "code",
   "execution_count": 62,
   "metadata": {},
   "outputs": [
    {
     "name": "stdout",
     "output_type": "stream",
     "text": [
      "1934\n",
      "342\n"
     ]
    }
   ],
   "source": [
    "train_set, test_set = util.split_data(data_scaled, train_percentage=0.85)\n",
    "print(len(train_set))\n",
    "print(len(test_set))"
   ]
  },
  {
   "cell_type": "code",
   "execution_count": 63,
   "metadata": {
    "collapsed": true
   },
   "outputs": [],
   "source": [
    "def create_labels(data, look_back):\n",
    "    look_back += 1\n",
    "    seq_dataset = []\n",
    "    for i in range(len(data) - look_back):\n",
    "        seq_dataset.append(data[i: i + look_back])\n",
    "    seq_dataset = np.array(seq_dataset)\n",
    "    data_x = seq_dataset[:, :-1]\n",
    "    data_y = seq_dataset[:, -1]\n",
    "    return data_x, data_y"
   ]
  },
  {
   "cell_type": "code",
   "execution_count": 75,
   "metadata": {},
   "outputs": [
    {
     "name": "stdout",
     "output_type": "stream",
     "text": [
      "[[[7.49022001e-06]\n",
      "  [1.83441589e-05]\n",
      "  [3.49860784e-05]\n",
      "  [4.25930921e-05]\n",
      "  [4.51750384e-05]\n",
      "  [9.36053548e-05]\n",
      "  [1.15321032e-04]\n",
      "  [9.71397531e-05]\n",
      "  [1.31029592e-04]\n",
      "  [1.23487393e-04]]\n",
      "\n",
      " [[1.83441589e-05]\n",
      "  [3.49860784e-05]\n",
      "  [4.25930921e-05]\n",
      "  [4.51750384e-05]\n",
      "  [9.36053548e-05]\n",
      "  [1.15321032e-04]\n",
      "  [9.71397531e-05]\n",
      "  [1.31029592e-04]\n",
      "  [1.23487393e-04]\n",
      "  [1.16219206e-04]]\n",
      "\n",
      " [[3.49860784e-05]\n",
      "  [4.25930921e-05]\n",
      "  [4.51750384e-05]\n",
      "  [9.36053548e-05]\n",
      "  [1.15321032e-04]\n",
      "  [9.71397531e-05]\n",
      "  [1.31029592e-04]\n",
      "  [1.23487393e-04]\n",
      "  [1.16219206e-04]\n",
      "  [1.39578871e-04]]\n",
      "\n",
      " [[4.25930921e-05]\n",
      "  [4.51750384e-05]\n",
      "  [9.36053548e-05]\n",
      "  [1.15321032e-04]\n",
      "  [9.71397531e-05]\n",
      "  [1.31029592e-04]\n",
      "  [1.23487393e-04]\n",
      "  [1.16219206e-04]\n",
      "  [1.39578871e-04]\n",
      "  [1.32847708e-04]]\n",
      "\n",
      " [[4.51750384e-05]\n",
      "  [9.36053548e-05]\n",
      "  [1.15321032e-04]\n",
      "  [9.71397531e-05]\n",
      "  [1.31029592e-04]\n",
      "  [1.23487393e-04]\n",
      "  [1.16219206e-04]\n",
      "  [1.39578871e-04]\n",
      "  [1.32847708e-04]\n",
      "  [1.26777959e-04]]]\n",
      "[[0.00011622]\n",
      " [0.00013958]\n",
      " [0.00013285]\n",
      " [0.00012678]\n",
      " [0.00010939]]\n",
      "1923\n",
      "1923\n"
     ]
    }
   ],
   "source": [
    "look_back = 10\n",
    "x_train, y_train = util.create_labels(train_set, look_back)\n",
    "print(x_train[:5])\n",
    "print(y_train[:5])\n",
    "print(len(x_train))\n",
    "print(len(y_train))"
   ]
  },
  {
   "cell_type": "code",
   "execution_count": 73,
   "metadata": {},
   "outputs": [
    {
     "name": "stdout",
     "output_type": "stream",
     "text": [
      "331\n",
      "331\n"
     ]
    }
   ],
   "source": [
    "x_test, y_test = util.create_labels(test_set, look_back)\n",
    "print(len(x_test))\n",
    "print(len(y_test))\n",
    "# print(x_test)\n",
    "# print(y_test)"
   ]
  },
  {
   "cell_type": "code",
   "execution_count": 76,
   "metadata": {
    "collapsed": true
   },
   "outputs": [],
   "source": [
    "def build_model():\n",
    "    model = Sequential()\n",
    "    model.add(LSTM( input_shape=(None, 1),\n",
    "                    units=50,\n",
    "                    return_sequences=True))\n",
    "    model.add(Dropout(0.35))\n",
    "    model.add(LSTM(100, return_sequences=False))\n",
    "    model.add(Dropout(0.35))\n",
    "    model.add(Dense(units=1))\n",
    "    model.add(Activation('linear'))\n",
    "    model.compile(loss='mse', optimizer='rmsprop')\n",
    "    model.summary()\n",
    "    return model"
   ]
  },
  {
   "cell_type": "code",
   "execution_count": 77,
   "metadata": {},
   "outputs": [
    {
     "name": "stdout",
     "output_type": "stream",
     "text": [
      "_________________________________________________________________\n",
      "Layer (type)                 Output Shape              Param #   \n",
      "=================================================================\n",
      "lstm_5 (LSTM)                (None, None, 50)          10400     \n",
      "_________________________________________________________________\n",
      "dropout_5 (Dropout)          (None, None, 50)          0         \n",
      "_________________________________________________________________\n",
      "lstm_6 (LSTM)                (None, 100)               60400     \n",
      "_________________________________________________________________\n",
      "dropout_6 (Dropout)          (None, 100)               0         \n",
      "_________________________________________________________________\n",
      "dense_3 (Dense)              (None, 1)                 101       \n",
      "_________________________________________________________________\n",
      "activation_3 (Activation)    (None, 1)                 0         \n",
      "=================================================================\n",
      "Total params: 70,901\n",
      "Trainable params: 70,901\n",
      "Non-trainable params: 0\n",
      "_________________________________________________________________\n"
     ]
    }
   ],
   "source": [
    "model = util.build_model()"
   ]
  },
  {
   "cell_type": "code",
   "execution_count": 79,
   "metadata": {
    "collapsed": true
   },
   "outputs": [],
   "source": [
    "def train_model(model, x_train, y_train, epochs):\n",
    "    checkpointer = ModelCheckpoint(filepath='saved_models/weights.best.lstm.lookback10.hdf5',\n",
    "                                   verbose=1,\n",
    "                                   save_best_only=True)\n",
    "    history = model.fit(x_train, y_train, batch_size=64,\n",
    "                                epochs=epochs,\n",
    "                                verbose=1,\n",
    "                                validation_split=0.2,\n",
    "                                callbacks=[checkpointer])\n",
    "    return history"
   ]
  },
  {
   "cell_type": "code",
   "execution_count": 83,
   "metadata": {},
   "outputs": [
    {
     "name": "stdout",
     "output_type": "stream",
     "text": [
      "Train on 1538 samples, validate on 385 samples\n",
      "Epoch 1/30\n",
      "1538/1538 [==============================] - 0s 257us/step - loss: 1.3617e-05 - val_loss: 4.4041e-05\n",
      "\n",
      "Epoch 00001: val_loss improved from inf to 0.00004, saving model to saved_models/weights.best.lstm.lookback10.hdf5\n",
      "Epoch 2/30\n",
      "1538/1538 [==============================] - 0s 236us/step - loss: 1.4332e-05 - val_loss: 2.7746e-04\n",
      "\n",
      "Epoch 00002: val_loss did not improve\n",
      "Epoch 3/30\n",
      "1538/1538 [==============================] - 0s 247us/step - loss: 1.7294e-05 - val_loss: 7.7610e-06\n",
      "\n",
      "Epoch 00003: val_loss improved from 0.00004 to 0.00001, saving model to saved_models/weights.best.lstm.lookback10.hdf5\n",
      "Epoch 4/30\n",
      "1538/1538 [==============================] - 0s 261us/step - loss: 1.3641e-05 - val_loss: 4.2218e-05\n",
      "\n",
      "Epoch 00004: val_loss did not improve\n",
      "Epoch 5/30\n",
      "1538/1538 [==============================] - 0s 265us/step - loss: 1.3296e-05 - val_loss: 5.8463e-06\n",
      "\n",
      "Epoch 00005: val_loss improved from 0.00001 to 0.00001, saving model to saved_models/weights.best.lstm.lookback10.hdf5\n",
      "Epoch 6/30\n",
      "1538/1538 [==============================] - 0s 262us/step - loss: 1.2694e-05 - val_loss: 1.9481e-05\n",
      "\n",
      "Epoch 00006: val_loss did not improve\n",
      "Epoch 7/30\n",
      "1538/1538 [==============================] - 0s 273us/step - loss: 1.2589e-05 - val_loss: 1.6547e-05\n",
      "\n",
      "Epoch 00007: val_loss did not improve\n",
      "Epoch 8/30\n",
      "1538/1538 [==============================] - 0s 273us/step - loss: 1.3927e-05 - val_loss: 3.7990e-06\n",
      "\n",
      "Epoch 00008: val_loss improved from 0.00001 to 0.00000, saving model to saved_models/weights.best.lstm.lookback10.hdf5\n",
      "Epoch 9/30\n",
      "1538/1538 [==============================] - 0s 249us/step - loss: 1.1831e-05 - val_loss: 1.9735e-05\n",
      "\n",
      "Epoch 00009: val_loss did not improve\n",
      "Epoch 10/30\n",
      "1538/1538 [==============================] - 0s 295us/step - loss: 1.2889e-05 - val_loss: 4.1458e-05\n",
      "\n",
      "Epoch 00010: val_loss did not improve\n",
      "Epoch 11/30\n",
      "1538/1538 [==============================] - 0s 270us/step - loss: 1.2970e-05 - val_loss: 3.6869e-05\n",
      "\n",
      "Epoch 00011: val_loss did not improve\n",
      "Epoch 12/30\n",
      "1538/1538 [==============================] - 0s 269us/step - loss: 1.1794e-05 - val_loss: 1.1058e-04\n",
      "\n",
      "Epoch 00012: val_loss did not improve\n",
      "Epoch 13/30\n",
      "1538/1538 [==============================] - 0s 282us/step - loss: 1.2472e-05 - val_loss: 1.4643e-05\n",
      "\n",
      "Epoch 00013: val_loss did not improve\n",
      "Epoch 14/30\n",
      "1538/1538 [==============================] - 0s 281us/step - loss: 1.2592e-05 - val_loss: 2.5038e-05\n",
      "\n",
      "Epoch 00014: val_loss did not improve\n",
      "Epoch 15/30\n",
      "1538/1538 [==============================] - 0s 282us/step - loss: 1.2088e-05 - val_loss: 7.6206e-06\n",
      "\n",
      "Epoch 00015: val_loss did not improve\n",
      "Epoch 16/30\n",
      "1538/1538 [==============================] - 0s 254us/step - loss: 1.1266e-05 - val_loss: 1.3187e-04\n",
      "\n",
      "Epoch 00016: val_loss did not improve\n",
      "Epoch 17/30\n",
      "1538/1538 [==============================] - 0s 253us/step - loss: 1.2590e-05 - val_loss: 9.0170e-06\n",
      "\n",
      "Epoch 00017: val_loss did not improve\n",
      "Epoch 18/30\n",
      "1538/1538 [==============================] - 0s 293us/step - loss: 1.0996e-05 - val_loss: 5.5300e-06\n",
      "\n",
      "Epoch 00018: val_loss did not improve\n",
      "Epoch 19/30\n",
      "1538/1538 [==============================] - 0s 256us/step - loss: 1.1644e-05 - val_loss: 5.5572e-05\n",
      "\n",
      "Epoch 00019: val_loss did not improve\n",
      "Epoch 20/30\n",
      "1538/1538 [==============================] - 0s 287us/step - loss: 1.2927e-05 - val_loss: 5.8171e-06\n",
      "\n",
      "Epoch 00020: val_loss did not improve\n",
      "Epoch 21/30\n",
      "1538/1538 [==============================] - 0s 251us/step - loss: 1.1392e-05 - val_loss: 2.9619e-05\n",
      "\n",
      "Epoch 00021: val_loss did not improve\n",
      "Epoch 22/30\n",
      "1538/1538 [==============================] - 0s 293us/step - loss: 1.1304e-05 - val_loss: 1.7290e-05\n",
      "\n",
      "Epoch 00022: val_loss did not improve\n",
      "Epoch 23/30\n",
      "1538/1538 [==============================] - 0s 260us/step - loss: 1.1696e-05 - val_loss: 9.6065e-06\n",
      "\n",
      "Epoch 00023: val_loss did not improve\n",
      "Epoch 24/30\n",
      "1538/1538 [==============================] - 0s 296us/step - loss: 1.0833e-05 - val_loss: 6.8617e-06\n",
      "\n",
      "Epoch 00024: val_loss did not improve\n",
      "Epoch 25/30\n",
      "1538/1538 [==============================] - 0s 258us/step - loss: 1.0182e-05 - val_loss: 5.3624e-06\n",
      "\n",
      "Epoch 00025: val_loss did not improve\n",
      "Epoch 26/30\n",
      "1538/1538 [==============================] - 0s 249us/step - loss: 1.1083e-05 - val_loss: 1.0464e-05\n",
      "\n",
      "Epoch 00026: val_loss did not improve\n",
      "Epoch 27/30\n",
      "1538/1538 [==============================] - 0s 254us/step - loss: 1.0186e-05 - val_loss: 7.7009e-06\n",
      "\n",
      "Epoch 00027: val_loss did not improve\n",
      "Epoch 28/30\n",
      "1538/1538 [==============================] - 0s 257us/step - loss: 9.1656e-06 - val_loss: 5.2931e-06\n",
      "\n",
      "Epoch 00028: val_loss did not improve\n",
      "Epoch 29/30\n",
      "1538/1538 [==============================] - 0s 267us/step - loss: 1.0462e-05 - val_loss: 6.9473e-06\n",
      "\n",
      "Epoch 00029: val_loss did not improve\n",
      "Epoch 30/30\n",
      "1538/1538 [==============================] - 0s 262us/step - loss: 1.0044e-05 - val_loss: 3.5554e-06\n",
      "\n",
      "Epoch 00030: val_loss improved from 0.00000 to 0.00000, saving model to saved_models/weights.best.lstm.lookback10.hdf5\n"
     ]
    }
   ],
   "source": [
    "history = train_model(model, x_train, y_train, epochs=30)"
   ]
  },
  {
   "cell_type": "code",
   "execution_count": null,
   "metadata": {
    "collapsed": true
   },
   "outputs": [],
   "source": [
    "def plot_training_history(history):\n",
    "    plt.plot(history.history['loss'])\n",
    "    plt.plot(history.history['val_loss'])\n",
    "    plt.title('model loss')\n",
    "    plt.ylabel('loss')\n",
    "    plt.xlabel('epoch')\n",
    "    plt.legend(['train', 'validation'], loc='upper left')\n",
    "    plt.savefig('history.png')\n",
    "    plt.show()"
   ]
  },
  {
   "cell_type": "code",
   "execution_count": 84,
   "metadata": {},
   "outputs": [
    {
     "data": {
      "image/png": "[encoded data removed]",
      "text/plain": [
       "<matplotlib.figure.Figure at 0x7f102ee52978>"
      ]
     },
     "metadata": {},
     "output_type": "display_data"
    }
   ],
   "source": [
    "util.plot_training_history(history)"
   ]
  },
  {
   "cell_type": "code",
   "execution_count": 85,
   "metadata": {
    "collapsed": true
   },
   "outputs": [],
   "source": [
    "model.load_weights('saved_models/weights.best.lstm.lookback10.hdf5')"
   ]
  },
  {
   "cell_type": "code",
   "execution_count": 98,
   "metadata": {},
   "outputs": [
    {
     "name": "stdout",
     "output_type": "stream",
     "text": [
      "1923\n",
      "1923\n",
      "331\n",
      "331\n",
      "[0.00055939]\n"
     ]
    }
   ],
   "source": [
    "train_predict = model.predict(x_train)\n",
    "test_predict = model.predict(x_test)\n",
    "print(len(train_predict))\n",
    "print(len(y_train))\n",
    "print(len(test_predict))\n",
    "print(len(y_test))"
   ]
  },
  {
   "cell_type": "code",
   "execution_count": 129,
   "metadata": {},
   "outputs": [],
   "source": [
    "def accuracy(predictions, labels):\n",
    "    result=0\n",
    "    for prediction, label in zip(predictions, labels):\n",
    "        result += (prediction - label)**2\n",
    "\n",
    "    result = result/len(y_train)\n",
    "    result = result[0]\n",
    "    print('The mean squared error is : {}'.format(result))"
   ]
  },
  {
   "cell_type": "code",
   "execution_count": 130,
   "metadata": {},
   "outputs": [
    {
     "name": "stdout",
     "output_type": "stream",
     "text": [
      "The mean squared error is : 4.590871412801789e-06\n",
      "The mean squared error is : 0.0005593851092271507\n"
     ]
    }
   ],
   "source": [
    "accuracy(train_predict, y_train)\n",
    "accuracy(test_predict, y_test)"
   ]
  },
  {
   "cell_type": "code",
   "execution_count": 131,
   "metadata": {
    "collapsed": true
   },
   "outputs": [],
   "source": [
    "def plot_predicted_data(test_predict, train_predict, scaler, look_back, weighted_price):\n",
    "\n",
    "    train_predict_unscaled = scaler.inverse_transform(train_predict)\n",
    "    test_predict_unscaled = scaler.inverse_transform(test_predict)\n",
    "\n",
    "    # CREATING SIMILAR DATASET TO PLOT TRAINING PREDICTIONS\n",
    "    trainPredictPlot = np.empty_like(weighted_price)\n",
    "    trainPredictPlot[:, :] = np.nan\n",
    "    trainPredictPlot[look_back:len(train_predict_unscaled) + look_back, :] = train_predict_unscaled\n",
    "\n",
    "    # CREATING SIMILAR DATASSET TO PLOT TEST PREDICTIONS\n",
    "    testPredictPlot = np.empty_like(weighted_price)\n",
    "    testPredictPlot[:, :] = np.nan\n",
    "    testPredictPlot[len(train_predict_unscaled) + (look_back * 2) + 1:len(weighted_price) - 1, :] = test_predict_unscaled\n",
    "\n",
    "    plt.figure(figsize=(10, 10))\n",
    "    plt.plot(weighted_price, 'g', label='original dataset')\n",
    "    plt.plot(train_predict_unscaled, 'r', label='training set')\n",
    "    plt.plot(testPredictPlot, 'b', label='predicted price/test set')\n",
    "    plt.legend(loc='upper left')\n",
    "    plt.xlabel('Time')\n",
    "    plt.ylabel('Price')\n",
    "\n",
    "#     plt.savefig('prediction.png')\n",
    "    plt.show()"
   ]
  },
  {
   "cell_type": "code",
   "execution_count": 132,
   "metadata": {},
   "outputs": [
    {
     "data": {
      "image/png": "[encoded data removed]",
      "text/plain": [
       "<matplotlib.figure.Figure at 0x7f102c747fd0>"
      ]
     },
     "metadata": {},
     "output_type": "display_data"
    }
   ],
   "source": [
    "plot_predicted_data(test_predict, train_predict, scaler, look_back, weighted_price)"
   ]
  },
  {
   "cell_type": "code",
   "execution_count": null,
   "metadata": {
    "collapsed": true
   },
   "outputs": [],
   "source": []
  }
 ],
 "metadata": {
  "kernelspec": {
   "display_name": "venv1",
   "language": "python",
   "name": "venv1"
  },
  "language_info": {
   "codemirror_mode": {
    "name": "ipython",
    "version": 3
   },
   "file_extension": ".py",
   "mimetype": "text/x-python",
   "name": "python",
   "nbconvert_exporter": "python",
   "pygments_lexer": "ipython3",
   "version": "3.6.3"
  }
 },
 "nbformat": 4,
 "nbformat_minor": 2
}
